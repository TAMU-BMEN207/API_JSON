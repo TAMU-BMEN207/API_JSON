{
 "cells": [
  {
   "cell_type": "markdown",
   "id": "936d59c8",
   "metadata": {},
   "source": [
    "# Web Services Application Programming Interfaces and JSON Files\n",
    "\n",
    "@author: Annice Najafi <br>\n",
    "Date: 092121 <br>\n",
    "BMEN 207 <br>\n",
    "Fall 2021 <br>\n",
    "Texas A&M University"
   ]
  },
  {
   "cell_type": "markdown",
   "id": "3360fb62",
   "metadata": {},
   "source": [
    "Before learning about APIs you need to know about JSON."
   ]
  },
  {
   "cell_type": "markdown",
   "id": "7f0c24d1",
   "metadata": {},
   "source": [
    "<h3> JSON...</h3><br>\n",
    "<table>\n",
    "<tr>\n",
    "<td><a href=\"https://upload.wikimedia.org/\">\n",
    "         <img style = \"border-radius: 50%;\" alt=\"Jason-Momoa\" src=\"https://upload.wikimedia.org/wikipedia/commons/2/22/Jason_Momoa_%2843055621224%29_%28cropped%29.jpg\" width=\"100\" height=\"100\";>\n",
    "</a></td>\n",
    "<td><a href=\"https://upload.wikimedia.org/\"><img style = \"border-radius: 50%;\" alt=\"Jason-Statham\" ; align: left; display: inline-block; margin-right: 15px; src=\"https://upload.wikimedia.org/wikipedia/commons/d/d3/Jason_Statham_2018.jpg\" width=\"100\" height=\"100\">\n",
    "      </a></td>\n",
    "    <td><a href=\"https://upload.wikimedia.org/\"><img style = \"border-radius: 50%;\" alt=\"Jason-Derulo\" ; align: left; display: inline-block; margin-right: 15px; src=\"https://upload.wikimedia.org/wikipedia/commons/3/3d/Jason_Derulo_live_%40_MTV_EMA_2018_%28cropped%29.png\" width=\"100\" height=\"100\">\n",
    "      </a></td>\n",
    "</tr>\n",
    "</table>   \n",
    "<h4>:)))... Not one of these guys...</h4>\n",
    "<h3> JSON (JavaScript Object Notation) </h3><br>\n",
    "JSON is a kind of text format initially built for the JavaScript language but is now commonly used for storing and transferring data across the internet.<br><br>\n",
    "Let's take a look at a JSON string..."
   ]
  },
  {
   "cell_type": "code",
   "execution_count": 1,
   "id": "ba23b969",
   "metadata": {},
   "outputs": [],
   "source": [
    "#information is related to the 2020 Porsche 911 Carrera S Cabriolet\n",
    "porsche_911 = '''\n",
    "{\n",
    "\"type\": [\"rear-engine\",\"rear-wheel-drive\",\"2-door convertible\"],\n",
    "\"starting_price\": 127450,\n",
    "\"horse power\": 443,\n",
    "\"engine\": {\"type\": \"twin-turbocharged\",\"cylinders\": 6},\n",
    "\"torque\": 390,\n",
    "\"dimensions\":{\n",
    "\"height\":50.7,\n",
    "\"width\":72.9,\n",
    "\"length\": 178.4,\n",
    "\"wheelbase\": 96.5\n",
    "},\n",
    "\"convertible\": \"yes\"\n",
    "}\n",
    "'''\n",
    "#source: https://www.caranddriver.com/porsche/911"
   ]
  },
  {
   "cell_type": "markdown",
   "id": "8a9f9651",
   "metadata": {},
   "source": [
    "<img style = \"border-radius: 50%;\" src=\"https://www.cnet.com/a/img/7x-WlmnLJJP63KatPRfi8EF7AEk=/2020/02/03/3fcc6179-80f5-4fa9-9e5e-900431efd3bf/2020-porsche-911-carrera-4s-cabriolet-006.jpg\" height=400, width=400 alt=\"2020 Porsche 911 Carrera 4S Cabriolet\">"
   ]
  },
  {
   "cell_type": "markdown",
   "id": "d2f789cb",
   "metadata": {},
   "source": [
    "Question: What type of data does it look like?"
   ]
  },
  {
   "cell_type": "code",
   "execution_count": 173,
   "id": "dc187e1b",
   "metadata": {},
   "outputs": [],
   "source": [
    "#Answer here: \n",
    "#dictionary"
   ]
  },
  {
   "cell_type": "code",
   "execution_count": 2,
   "id": "61970a78",
   "metadata": {
    "scrolled": true
   },
   "outputs": [
    {
     "data": {
      "text/plain": [
       "{'type': ['rear-engine', 'rear-wheel-drive', '2-door convertible'],\n",
       " 'starting_price': 127450,\n",
       " 'horse power': 443,\n",
       " 'engine': {'type': 'twin-turbocharged', 'cylinders': 6},\n",
       " 'torque': 390,\n",
       " 'dimensions': {'height': 50.7,\n",
       "  'width': 72.9,\n",
       "  'length': 178.4,\n",
       "  'wheelbase': 96.5},\n",
       " 'convertible': 'yes'}"
      ]
     },
     "execution_count": 2,
     "metadata": {},
     "output_type": "execute_result"
    }
   ],
   "source": [
    "#import the json module\n",
    "import json\n",
    "#load the json string\n",
    "porsche_911_json = json.loads(porsche_911)\n",
    "porsche_911_json"
   ]
  },
  {
   "cell_type": "markdown",
   "id": "d0c8aee1",
   "metadata": {},
   "source": [
    "<h3>JSON Loads</h3>"
   ]
  },
  {
   "cell_type": "code",
   "execution_count": 3,
   "id": "f580ce4f",
   "metadata": {},
   "outputs": [
    {
     "data": {
      "text/plain": [
       "dict"
      ]
     },
     "execution_count": 3,
     "metadata": {},
     "output_type": "execute_result"
    }
   ],
   "source": [
    "#check the type of the loaded json string\n",
    "type(porsche_911_json)"
   ]
  },
  {
   "cell_type": "code",
   "execution_count": 4,
   "id": "b34a17d6",
   "metadata": {},
   "outputs": [
    {
     "name": "stdout",
     "output_type": "stream",
     "text": [
      "{'convertible': 'yes',\n",
      " 'dimensions': {'height': 50.7,\n",
      "                'length': 178.4,\n",
      "                'wheelbase': 96.5,\n",
      "                'width': 72.9},\n",
      " 'engine': {'cylinders': 6, 'type': 'twin-turbocharged'},\n",
      " 'horse power': 443,\n",
      " 'starting_price': 127450,\n",
      " 'torque': 390,\n",
      " 'type': ['rear-engine', 'rear-wheel-drive', '2-door convertible']}\n"
     ]
    }
   ],
   "source": [
    "import pprint\n",
    "pprint.pprint(porsche_911_json)"
   ]
  },
  {
   "cell_type": "code",
   "execution_count": 5,
   "id": "ced12dcf",
   "metadata": {
    "scrolled": true
   },
   "outputs": [
    {
     "data": {
      "text/plain": [
       "6"
      ]
     },
     "execution_count": 5,
     "metadata": {},
     "output_type": "execute_result"
    }
   ],
   "source": [
    "#extract certain information from the object\n",
    "porsche_911_json['engine']['cylinders']"
   ]
  },
  {
   "cell_type": "code",
   "execution_count": 6,
   "id": "577f1b7a",
   "metadata": {},
   "outputs": [],
   "source": [
    "#add to it\n",
    "porsche_911_json[\"dimensions\"][\"passenger volume\"] = 71"
   ]
  },
  {
   "cell_type": "code",
   "execution_count": 7,
   "id": "f81378ca",
   "metadata": {},
   "outputs": [
    {
     "data": {
      "text/plain": [
       "{'type': ['rear-engine', 'rear-wheel-drive', '2-door convertible'],\n",
       " 'starting_price': 127450,\n",
       " 'horse power': 443,\n",
       " 'engine': {'type': 'twin-turbocharged', 'cylinders': 6},\n",
       " 'torque': 390,\n",
       " 'dimensions': {'height': 50.7,\n",
       "  'width': 72.9,\n",
       "  'length': 178.4,\n",
       "  'wheelbase': 96.5,\n",
       "  'passenger volume': 71},\n",
       " 'convertible': 'yes'}"
      ]
     },
     "execution_count": 7,
     "metadata": {},
     "output_type": "execute_result"
    }
   ],
   "source": [
    "#take a look at data\n",
    "porsche_911_json"
   ]
  },
  {
   "cell_type": "code",
   "execution_count": 8,
   "id": "2cef12e7",
   "metadata": {},
   "outputs": [],
   "source": [
    "#delete information...\n",
    "del porsche_911_json['convertible']"
   ]
  },
  {
   "cell_type": "code",
   "execution_count": 9,
   "id": "26957ef8",
   "metadata": {},
   "outputs": [
    {
     "data": {
      "text/plain": [
       "{'type': ['rear-engine', 'rear-wheel-drive', '2-door convertible'],\n",
       " 'starting_price': 127450,\n",
       " 'horse power': 443,\n",
       " 'engine': {'type': 'twin-turbocharged', 'cylinders': 6},\n",
       " 'torque': 390,\n",
       " 'dimensions': {'height': 50.7,\n",
       "  'width': 72.9,\n",
       "  'length': 178.4,\n",
       "  'wheelbase': 96.5,\n",
       "  'passenger volume': 71}}"
      ]
     },
     "execution_count": 9,
     "metadata": {},
     "output_type": "execute_result"
    }
   ],
   "source": [
    "#Let's take a look at how it looks like\n",
    "porsche_911_json"
   ]
  },
  {
   "cell_type": "markdown",
   "id": "2f32fcef",
   "metadata": {},
   "source": [
    "<h3>JSON Dumps</h3>"
   ]
  },
  {
   "cell_type": "code",
   "execution_count": 10,
   "id": "b490f0da",
   "metadata": {},
   "outputs": [],
   "source": [
    "#dump the dictionary as a string into a new object\n",
    "porsche_911_str = json.dumps(porsche_911_json)"
   ]
  },
  {
   "cell_type": "code",
   "execution_count": 11,
   "id": "8201d027",
   "metadata": {},
   "outputs": [
    {
     "data": {
      "text/plain": [
       "'{\"type\": [\"rear-engine\", \"rear-wheel-drive\", \"2-door convertible\"], \"starting_price\": 127450, \"horse power\": 443, \"engine\": {\"type\": \"twin-turbocharged\", \"cylinders\": 6}, \"torque\": 390, \"dimensions\": {\"height\": 50.7, \"width\": 72.9, \"length\": 178.4, \"wheelbase\": 96.5, \"passenger volume\": 71}}'"
      ]
     },
     "execution_count": 11,
     "metadata": {},
     "output_type": "execute_result"
    }
   ],
   "source": [
    "#Let's take a look\n",
    "porsche_911_str"
   ]
  },
  {
   "cell_type": "code",
   "execution_count": 12,
   "id": "71472f4a",
   "metadata": {},
   "outputs": [],
   "source": [
    "#Let's add extra parameters\n",
    "porsche_911_str = json.dumps(porsche_911_json, indent = 4, sort_keys=True)"
   ]
  },
  {
   "cell_type": "code",
   "execution_count": 13,
   "id": "9ae07dca",
   "metadata": {},
   "outputs": [
    {
     "data": {
      "text/plain": [
       "'{\\n    \"dimensions\": {\\n        \"height\": 50.7,\\n        \"length\": 178.4,\\n        \"passenger volume\": 71,\\n        \"wheelbase\": 96.5,\\n        \"width\": 72.9\\n    },\\n    \"engine\": {\\n        \"cylinders\": 6,\\n        \"type\": \"twin-turbocharged\"\\n    },\\n    \"horse power\": 443,\\n    \"starting_price\": 127450,\\n    \"torque\": 390,\\n    \"type\": [\\n        \"rear-engine\",\\n        \"rear-wheel-drive\",\\n        \"2-door convertible\"\\n    ]\\n}'"
      ]
     },
     "execution_count": 13,
     "metadata": {},
     "output_type": "execute_result"
    }
   ],
   "source": [
    "porsche_911_str"
   ]
  },
  {
   "cell_type": "markdown",
   "id": "4dbd7f71",
   "metadata": {},
   "source": [
    "<h3>Writing, reading and updating a JSON file</h3>"
   ]
  },
  {
   "cell_type": "code",
   "execution_count": 14,
   "id": "04d2df2d",
   "metadata": {},
   "outputs": [],
   "source": [
    "#Open a new json file in write mode\n",
    "with open(\"porsche.json\", \"w\") as data_file:\n",
    "    #dump a json string into a new file\n",
    "    json.dump(porsche_911_str, data_file, indent=4)"
   ]
  },
  {
   "cell_type": "code",
   "execution_count": 15,
   "id": "0ee5aef6",
   "metadata": {
    "scrolled": true
   },
   "outputs": [
    {
     "name": "stdout",
     "output_type": "stream",
     "text": [
      "{\n",
      "    \"dimensions\": {\n",
      "        \"height\": 50.7,\n",
      "        \"length\": 178.4,\n",
      "        \"passenger volume\": 71,\n",
      "        \"wheelbase\": 96.5,\n",
      "        \"width\": 72.9\n",
      "    },\n",
      "    \"engine\": {\n",
      "        \"cylinders\": 6,\n",
      "        \"type\": \"twin-turbocharged\"\n",
      "    },\n",
      "    \"horse power\": 443,\n",
      "    \"starting_price\": 127450,\n",
      "    \"torque\": 390,\n",
      "    \"type\": [\n",
      "        \"rear-engine\",\n",
      "        \"rear-wheel-drive\",\n",
      "        \"2-door convertible\"\n",
      "    ]\n",
      "}\n"
     ]
    }
   ],
   "source": [
    "#open a json file in read mode\n",
    "with open(\"porsche.json\", \"r\") as data_file:\n",
    "    data = json.load(data_file)\n",
    "    print(data)"
   ]
  },
  {
   "cell_type": "code",
   "execution_count": 16,
   "id": "c58eeafa",
   "metadata": {
    "scrolled": true
   },
   "outputs": [],
   "source": [
    "#take a look at data\n",
    "data = json.loads(data)"
   ]
  },
  {
   "cell_type": "code",
   "execution_count": 17,
   "id": "e920fe87",
   "metadata": {},
   "outputs": [],
   "source": [
    "#add a new value using update\n",
    "transmission = {\"transmission\": \"8-speed dual clutch automatic\"}\n",
    "data.update(transmission)"
   ]
  },
  {
   "cell_type": "code",
   "execution_count": 18,
   "id": "41680e99",
   "metadata": {},
   "outputs": [
    {
     "data": {
      "text/plain": [
       "{'dimensions': {'height': 50.7,\n",
       "  'length': 178.4,\n",
       "  'passenger volume': 71,\n",
       "  'wheelbase': 96.5,\n",
       "  'width': 72.9},\n",
       " 'engine': {'cylinders': 6, 'type': 'twin-turbocharged'},\n",
       " 'horse power': 443,\n",
       " 'starting_price': 127450,\n",
       " 'torque': 390,\n",
       " 'type': ['rear-engine', 'rear-wheel-drive', '2-door convertible'],\n",
       " 'transmission': '8-speed dual clutch automatic'}"
      ]
     },
     "execution_count": 18,
     "metadata": {},
     "output_type": "execute_result"
    }
   ],
   "source": [
    "#take a look at data\n",
    "data"
   ]
  },
  {
   "cell_type": "markdown",
   "id": "016b566a",
   "metadata": {},
   "source": [
    "Do you see how easily you can convert json files to a python dictionary and work with? Isn't this amazing?! Do you see why JSON became so popular?!"
   ]
  },
  {
   "cell_type": "markdown",
   "id": "d7b394b9",
   "metadata": {},
   "source": [
    "# Application Programming Interfaces"
   ]
  },
  {
   "cell_type": "markdown",
   "id": "2da34c14",
   "metadata": {},
   "source": [
    "Aplication Programming Interface (API): consists of commands, functions, protocols and objects that can be used by programmers for creating software or interacting with an external system. <br><br>\n",
    "<strong>Interface:</strong> Connects computer to human <br>\n",
    "<strong>API:</strong> connects computers\n",
    "<img src=\"api_diagram.png\" width=\"640\" height=\"480\" allow=\"autoplay\">"
   ]
  },
  {
   "cell_type": "markdown",
   "id": "fcf540a0",
   "metadata": {},
   "source": [
    "<h3> API is like the bank teller... </h3>\n",
    "<img src=\"bank_demonstration.png\" width=\"300\" height=\"10\" allow=\"autoplay\">"
   ]
  },
  {
   "cell_type": "markdown",
   "id": "ebfca1ff",
   "metadata": {},
   "source": [
    "<a href=\"https://github.com/public-apis/public-apis\">Click here to see a list of public APIs</a>"
   ]
  },
  {
   "cell_type": "markdown",
   "id": "36215d21",
   "metadata": {},
   "source": [
    "The endpoint is like the address of a bank we are heading over to."
   ]
  },
  {
   "cell_type": "code",
   "execution_count": 19,
   "id": "c5e5a5f9",
   "metadata": {},
   "outputs": [],
   "source": [
    "#import the requests module\n",
    "import requests\n",
    "url = \"https://api.coindesk.com/v1/bpi/currentprice.json\"\n",
    "response = requests.get(url=url)"
   ]
  },
  {
   "cell_type": "code",
   "execution_count": 20,
   "id": "75134b46",
   "metadata": {},
   "outputs": [
    {
     "data": {
      "text/plain": [
       "<Response [200]>"
      ]
     },
     "execution_count": 20,
     "metadata": {},
     "output_type": "execute_result"
    }
   ],
   "source": [
    "#print the response\n",
    "response"
   ]
  },
  {
   "cell_type": "code",
   "execution_count": 21,
   "id": "784f82a5",
   "metadata": {},
   "outputs": [
    {
     "data": {
      "text/plain": [
       "{'time': {'updated': 'Sep 24, 2021 00:27:00 UTC',\n",
       "  'updatedISO': '2021-09-24T00:27:00+00:00',\n",
       "  'updateduk': 'Sep 24, 2021 at 01:27 BST'},\n",
       " 'disclaimer': 'This data was produced from the CoinDesk Bitcoin Price Index (USD). Non-USD currency data converted using hourly conversion rate from openexchangerates.org',\n",
       " 'chartName': 'Bitcoin',\n",
       " 'bpi': {'USD': {'code': 'USD',\n",
       "   'symbol': '&#36;',\n",
       "   'rate': '44,819.7300',\n",
       "   'description': 'United States Dollar',\n",
       "   'rate_float': 44819.73},\n",
       "  'GBP': {'code': 'GBP',\n",
       "   'symbol': '&pound;',\n",
       "   'rate': '32,664.9330',\n",
       "   'description': 'British Pound Sterling',\n",
       "   'rate_float': 32664.933},\n",
       "  'EUR': {'code': 'EUR',\n",
       "   'symbol': '&euro;',\n",
       "   'rate': '38,176.6841',\n",
       "   'description': 'Euro',\n",
       "   'rate_float': 38176.6841}}}"
      ]
     },
     "execution_count": 21,
     "metadata": {},
     "output_type": "execute_result"
    }
   ],
   "source": [
    "#print the response code\n",
    "response.json()"
   ]
  },
  {
   "cell_type": "code",
   "execution_count": 22,
   "id": "c15eb63c",
   "metadata": {},
   "outputs": [
    {
     "data": {
      "text/plain": [
       "200"
      ]
     },
     "execution_count": 22,
     "metadata": {},
     "output_type": "execute_result"
    }
   ],
   "source": [
    "response.status_code"
   ]
  },
  {
   "cell_type": "code",
   "execution_count": 23,
   "id": "3d324da4",
   "metadata": {},
   "outputs": [
    {
     "data": {
      "text/plain": [
       "<Response [404]>"
      ]
     },
     "execution_count": 23,
     "metadata": {},
     "output_type": "execute_result"
    }
   ],
   "source": [
    "#What happens if we put a wrong endpoint?\n",
    "url = \"https://api.coindesk.com/v1/bpi/currentpric.json\"\n",
    "response = requests.get(url=url)\n",
    "response"
   ]
  },
  {
   "cell_type": "code",
   "execution_count": 24,
   "id": "2734f49e",
   "metadata": {},
   "outputs": [],
   "source": [
    "#putting in a wrong endpoint results in a specific error"
   ]
  },
  {
   "cell_type": "markdown",
   "id": "588accb9",
   "metadata": {},
   "source": [
    "-_-"
   ]
  },
  {
   "cell_type": "markdown",
   "id": "33049908",
   "metadata": {},
   "source": [
    "<h3> Status Code Meanings:</h3>\n",
    "<ul>\n",
    "    <li><strong>100-199</strong>: Still Processing Request.</li>\n",
    "    <li><strong>200-299</strong>: Done!</li>\n",
    "    <li><strong>300-399</strong>: You do not have the permission to access...</li>\n",
    "    <li><strong>400-499</strong>: The endpoint does not exist.</li>\n",
    "    <li><strong>500-599</strong>: There is a problem with the server.</li>\n",
    "</ul>"
   ]
  },
  {
   "cell_type": "markdown",
   "id": "9bb82e17",
   "metadata": {},
   "source": [
    "In the following sections we go over \n",
    "<ul><li>get</li> <li>post</li> <li>put</li> <li>delete</li></ul>"
   ]
  },
  {
   "cell_type": "markdown",
   "id": "8a267ef9",
   "metadata": {},
   "source": [
    "<h3>Get Request</h3>"
   ]
  },
  {
   "cell_type": "code",
   "execution_count": 24,
   "id": "55ad2fa7",
   "metadata": {},
   "outputs": [],
   "source": [
    "#let's try the correct endpoint again.\n",
    "url = \"https://api.coindesk.com/v1/bpi/currentprice.json\"\n",
    "response = requests.get(url=url)"
   ]
  },
  {
   "cell_type": "code",
   "execution_count": 28,
   "id": "8fd087c7",
   "metadata": {
    "scrolled": true
   },
   "outputs": [
    {
     "name": "stdout",
     "output_type": "stream",
     "text": [
      "{'bpi': {'EUR': {'code': 'EUR',\n",
      "                 'description': 'Euro',\n",
      "                 'rate': '38,243.3986',\n",
      "                 'rate_float': 38243.3986,\n",
      "                 'symbol': '&euro;'},\n",
      "         'GBP': {'code': 'GBP',\n",
      "                 'description': 'British Pound Sterling',\n",
      "                 'rate': '32,722.0156',\n",
      "                 'rate_float': 32722.0156,\n",
      "                 'symbol': '&pound;'},\n",
      "         'USD': {'code': 'USD',\n",
      "                 'description': 'United States Dollar',\n",
      "                 'rate': '44,898.0533',\n",
      "                 'rate_float': 44898.0533,\n",
      "                 'symbol': '&#36;'}},\n",
      " 'chartName': 'Bitcoin',\n",
      " 'disclaimer': 'This data was produced from the CoinDesk Bitcoin Price Index '\n",
      "               '(USD). Non-USD currency data converted using hourly conversion '\n",
      "               'rate from openexchangerates.org',\n",
      " 'time': {'updated': 'Sep 24, 2021 00:31:00 UTC',\n",
      "          'updatedISO': '2021-09-24T00:31:00+00:00',\n",
      "          'updateduk': 'Sep 24, 2021 at 01:31 BST'}}\n"
     ]
    }
   ],
   "source": [
    "#cool! Let's see the actual JSON file\n",
    "bitcoin_info = response.json()\n",
    "pprint.pprint(bitcoin_info)"
   ]
  },
  {
   "cell_type": "code",
   "execution_count": 29,
   "id": "bea9e1fa",
   "metadata": {},
   "outputs": [
    {
     "data": {
      "text/plain": [
       "'38,243.3986'"
      ]
     },
     "execution_count": 29,
     "metadata": {},
     "output_type": "execute_result"
    }
   ],
   "source": [
    "#Extract the rate of bitcoin in Euros\n",
    "bitcoin_info['bpi']['EUR']['rate']"
   ]
  },
  {
   "cell_type": "markdown",
   "id": "f3871f8e",
   "metadata": {},
   "source": [
    "# STOP\n",
    "Exercise: Write a function that returns the price of bitcoin in US dollars every time it is called."
   ]
  },
  {
   "cell_type": "code",
   "execution_count": 30,
   "id": "eed2232d",
   "metadata": {},
   "outputs": [],
   "source": [
    "#Exercise: Write a function that returns the price of bitcoin in US dollars every time it is called.\n",
    "def bitcoin_to_usd():\n",
    "    #let's try the correct endpoint again.\n",
    "    url = \"https://api.coindesk.com/v1/bpi/currentprice.json\"\n",
    "    response = requests.get(url=url)\n",
    "    bitcoin_info = response.json()\n",
    "    return bitcoin_info[\"bpi\"][\"USD\"][\"rate\"]"
   ]
  },
  {
   "cell_type": "code",
   "execution_count": 31,
   "id": "f0970a91",
   "metadata": {
    "scrolled": true
   },
   "outputs": [
    {
     "name": "stdout",
     "output_type": "stream",
     "text": [
      "The current price of bitoin is 44,744.1350 dollars.\n"
     ]
    }
   ],
   "source": [
    "print(f\"The current price of bitoin is {bitcoin_to_usd()} dollars.\")"
   ]
  },
  {
   "cell_type": "markdown",
   "id": "e37ea13e",
   "metadata": {},
   "source": [
    "# Example\n",
    "\n",
    "get information from your ip address:\n",
    "Go to google and search for your ip address\n",
    "Once you found it head over to https://ipinfo.io/165.91.13.188/geo and change the ip to your location"
   ]
  },
  {
   "cell_type": "code",
   "execution_count": 32,
   "id": "1cfdd0e7",
   "metadata": {},
   "outputs": [],
   "source": [
    "response = requests.get(\"https://ipinfo.io/47.218.213.67/geo\")"
   ]
  },
  {
   "cell_type": "code",
   "execution_count": 33,
   "id": "a2dd7c39",
   "metadata": {},
   "outputs": [
    {
     "data": {
      "text/plain": [
       "{'ip': '47.218.213.67',\n",
       " 'hostname': '47-218-213-67.bcstcmtk03.res.dyn.suddenlink.net',\n",
       " 'city': 'College Station',\n",
       " 'region': 'Texas',\n",
       " 'country': 'US',\n",
       " 'loc': '30.6280,-96.3344',\n",
       " 'org': 'AS19108 Suddenlink Communications',\n",
       " 'postal': '77840',\n",
       " 'timezone': 'America/Chicago',\n",
       " 'readme': 'https://ipinfo.io/missingauth'}"
      ]
     },
     "execution_count": 33,
     "metadata": {},
     "output_type": "execute_result"
    }
   ],
   "source": [
    "response.json()"
   ]
  },
  {
   "cell_type": "code",
   "execution_count": 35,
   "id": "f90060a2",
   "metadata": {},
   "outputs": [
    {
     "name": "stdout",
     "output_type": "stream",
     "text": [
      "You are located in College Station, Texas, US.\n"
     ]
    }
   ],
   "source": [
    "#Write a function that receives an ip address and returns the city related to that address:\n",
    "def city_from_ip(ip):\n",
    "    response = requests.get(f\"https://ipinfo.io/{ip}/geo\")\n",
    "    response = response.json()\n",
    "    return [response['city'], response['region'], response['country']]\n",
    "\n",
    "result = city_from_ip('47.218.213.67')\n",
    "print(f\"You are located in {result[0]}, {result[1]}, {result[2]}.\")"
   ]
  },
  {
   "cell_type": "markdown",
   "id": "d588b897",
   "metadata": {},
   "source": [
    "Some APIs require parameters to work... <br>"
   ]
  },
  {
   "cell_type": "code",
   "execution_count": 36,
   "id": "dc4ca89f",
   "metadata": {},
   "outputs": [],
   "source": [
    "#Uncomment to try\n",
    "sunrise = requests.get(\"http://api.sunrise-sunset.org/json\")"
   ]
  },
  {
   "cell_type": "code",
   "execution_count": 37,
   "id": "ac6032af",
   "metadata": {},
   "outputs": [
    {
     "data": {
      "text/plain": [
       "{'results': {'sunrise': '5:47:32 AM',\n",
       "  'sunset': '5:56:19 PM',\n",
       "  'solar_noon': '11:51:55 AM',\n",
       "  'day_length': '12:08:47',\n",
       "  'civil_twilight_begin': '5:27:55 AM',\n",
       "  'civil_twilight_end': '6:15:56 PM',\n",
       "  'nautical_twilight_begin': '5:03:55 AM',\n",
       "  'nautical_twilight_end': '6:39:56 PM',\n",
       "  'astronomical_twilight_begin': '4:39:55 AM',\n",
       "  'astronomical_twilight_end': '7:03:56 PM'},\n",
       " 'status': 'OK'}"
      ]
     },
     "execution_count": 37,
     "metadata": {},
     "output_type": "execute_result"
    }
   ],
   "source": [
    "sunrise.json()"
   ]
  },
  {
   "cell_type": "code",
   "execution_count": 41,
   "id": "1e4879ed",
   "metadata": {},
   "outputs": [],
   "source": [
    "#latitude and longitude of ETB => lat: 30.6280, lng: -96.3344\n",
    "params = {\n",
    "    \"lat\": \"30.6280\",\n",
    "    \"lng\": \"-96.3344\"\n",
    "}\n",
    "#get latitude and longitude from google maps\n",
    "response = requests.get(url=\"http://api.sunrise-sunset.org/json\", json=params)"
   ]
  },
  {
   "cell_type": "code",
   "execution_count": 42,
   "id": "c7a2c86f",
   "metadata": {},
   "outputs": [
    {
     "data": {
      "text/plain": [
       "{'results': {'sunrise': '5:47:32 AM',\n",
       "  'sunset': '5:56:19 PM',\n",
       "  'solar_noon': '11:51:55 AM',\n",
       "  'day_length': '12:08:47',\n",
       "  'civil_twilight_begin': '5:27:55 AM',\n",
       "  'civil_twilight_end': '6:15:56 PM',\n",
       "  'nautical_twilight_begin': '5:03:55 AM',\n",
       "  'nautical_twilight_end': '6:39:56 PM',\n",
       "  'astronomical_twilight_begin': '4:39:55 AM',\n",
       "  'astronomical_twilight_end': '7:03:56 PM'},\n",
       " 'status': 'OK'}"
      ]
     },
     "execution_count": 42,
     "metadata": {},
     "output_type": "execute_result"
    }
   ],
   "source": [
    "#Take a look\n",
    "response.json()"
   ]
  },
  {
   "cell_type": "markdown",
   "id": "285da472",
   "metadata": {},
   "source": [
    "<h3>Open JSON as a Pandas dataframe</h3>"
   ]
  },
  {
   "cell_type": "code",
   "execution_count": 43,
   "id": "a4af8ac7",
   "metadata": {
    "scrolled": false
   },
   "outputs": [
    {
     "data": {
      "text/html": [
       "<div>\n",
       "<style scoped>\n",
       "    .dataframe tbody tr th:only-of-type {\n",
       "        vertical-align: middle;\n",
       "    }\n",
       "\n",
       "    .dataframe tbody tr th {\n",
       "        vertical-align: top;\n",
       "    }\n",
       "\n",
       "    .dataframe thead th {\n",
       "        text-align: right;\n",
       "    }\n",
       "</style>\n",
       "<table border=\"1\" class=\"dataframe\">\n",
       "  <thead>\n",
       "    <tr style=\"text-align: right;\">\n",
       "      <th></th>\n",
       "      <th>results</th>\n",
       "      <th>status</th>\n",
       "    </tr>\n",
       "  </thead>\n",
       "  <tbody>\n",
       "    <tr>\n",
       "      <th>astronomical_twilight_begin</th>\n",
       "      <td>10:54:19 AM</td>\n",
       "      <td>OK</td>\n",
       "    </tr>\n",
       "    <tr>\n",
       "      <th>astronomical_twilight_end</th>\n",
       "      <td>1:40:46 AM</td>\n",
       "      <td>OK</td>\n",
       "    </tr>\n",
       "    <tr>\n",
       "      <th>civil_twilight_begin</th>\n",
       "      <td>11:50:32 AM</td>\n",
       "      <td>OK</td>\n",
       "    </tr>\n",
       "    <tr>\n",
       "      <th>civil_twilight_end</th>\n",
       "      <td>12:44:33 AM</td>\n",
       "      <td>OK</td>\n",
       "    </tr>\n",
       "    <tr>\n",
       "      <th>day_length</th>\n",
       "      <td>12:08:25</td>\n",
       "      <td>OK</td>\n",
       "    </tr>\n",
       "    <tr>\n",
       "      <th>nautical_twilight_begin</th>\n",
       "      <td>11:22:32 AM</td>\n",
       "      <td>OK</td>\n",
       "    </tr>\n",
       "    <tr>\n",
       "      <th>nautical_twilight_end</th>\n",
       "      <td>1:12:32 AM</td>\n",
       "      <td>OK</td>\n",
       "    </tr>\n",
       "    <tr>\n",
       "      <th>solar_noon</th>\n",
       "      <td>6:17:32 PM</td>\n",
       "      <td>OK</td>\n",
       "    </tr>\n",
       "    <tr>\n",
       "      <th>sunrise</th>\n",
       "      <td>12:13:20 PM</td>\n",
       "      <td>OK</td>\n",
       "    </tr>\n",
       "    <tr>\n",
       "      <th>sunset</th>\n",
       "      <td>12:21:45 AM</td>\n",
       "      <td>OK</td>\n",
       "    </tr>\n",
       "  </tbody>\n",
       "</table>\n",
       "</div>"
      ],
      "text/plain": [
       "                                 results status\n",
       "astronomical_twilight_begin  10:54:19 AM     OK\n",
       "astronomical_twilight_end     1:40:46 AM     OK\n",
       "civil_twilight_begin         11:50:32 AM     OK\n",
       "civil_twilight_end           12:44:33 AM     OK\n",
       "day_length                      12:08:25     OK\n",
       "nautical_twilight_begin      11:22:32 AM     OK\n",
       "nautical_twilight_end         1:12:32 AM     OK\n",
       "solar_noon                    6:17:32 PM     OK\n",
       "sunrise                      12:13:20 PM     OK\n",
       "sunset                       12:21:45 AM     OK"
      ]
     },
     "execution_count": 43,
     "metadata": {},
     "output_type": "execute_result"
    }
   ],
   "source": [
    "#Remember Pandas?\n",
    "import pandas as pd\n",
    "df = pd.read_json(\"http://api.sunrise-sunset.org/json?lat=30.622207&lng=-96.339858&date=2021-09-23\")\n",
    "df"
   ]
  },
  {
   "cell_type": "code",
   "execution_count": 44,
   "id": "9868a883",
   "metadata": {},
   "outputs": [],
   "source": [
    "#save as csv\n",
    "df.to_csv(\"sunrise_sunset.csv\")"
   ]
  },
  {
   "cell_type": "markdown",
   "id": "ad1a35b1",
   "metadata": {},
   "source": [
    "<h3>Post Request</h3>"
   ]
  },
  {
   "cell_type": "code",
   "execution_count": 45,
   "id": "780b56fd",
   "metadata": {},
   "outputs": [
    {
     "data": {
      "text/plain": [
       "'{\"message\":\"Success. Let\\'s visit https://pixe.la/@annice47 , it is your profile page!\",\"isSuccess\":true}'"
      ]
     },
     "execution_count": 45,
     "metadata": {},
     "output_type": "execute_result"
    }
   ],
   "source": [
    "#https://pixe.la/ used for example\n",
    "#head over to https://docs.pixe.la/\n",
    "#define the endpoint\n",
    "endpoint = \"https://pixe.la/v1/users\"\n",
    "#define required parameters\n",
    "params = {\n",
    "    \"token\" : \"iyb3f7fh9384h02h02fhubind029\",\n",
    "    \"username\": \"annice47\",\n",
    "    \"agreeTermsOfService\": \"yes\",\n",
    "    \"notMinor\": \"yes\"\n",
    "}\n",
    "#make a post request\n",
    "response = requests.post(url=endpoint, json=params)\n",
    "#print text\n",
    "response.text"
   ]
  },
  {
   "cell_type": "markdown",
   "id": "2094e1ac",
   "metadata": {},
   "source": [
    "Oh cool now I have an account!"
   ]
  },
  {
   "cell_type": "markdown",
   "id": "3644f2d7",
   "metadata": {},
   "source": [
    "<h3>Authentication</h3>"
   ]
  },
  {
   "cell_type": "markdown",
   "id": "26cd8580",
   "metadata": {},
   "source": [
    "Not all APIs return simple results like just the price of bitcoin or the sunrise, senset times. Some data requires lots of energy and money to obtain so many APIs charge you for accessing their data."
   ]
  },
  {
   "cell_type": "markdown",
   "id": "62aeaad6",
   "metadata": {},
   "source": [
    "But usually they provide a \"free tier\" with authentication so they can track your usage of the API and prevent your access if you exceed their limits."
   ]
  },
  {
   "cell_type": "markdown",
   "id": "a372a357",
   "metadata": {},
   "source": [
    "Follow along since this is very similar to the homework assignment!"
   ]
  },
  {
   "cell_type": "code",
   "execution_count": 46,
   "id": "e2271b36",
   "metadata": {},
   "outputs": [],
   "source": [
    "#the endpoint\n",
    "USERNAME = \"annice47\"\n",
    "TOKEN = \"iyb3f7fh9384h02h02fhubind029\"\n",
    "create_graph_endpoint = f\"{endpoint}/{USERNAME}/graphs\"\n",
    "#headers\n",
    "headers = {\n",
    "    \"X-USER-TOKEN\" : TOKEN\n",
    "}\n",
    "#parameters\n",
    "params = {\n",
    "    \"id\": \"mygraph1\",\n",
    "    \"name\": \"sleep\",\n",
    "    \"unit\": \"hours\",\n",
    "    \"type\": \"float\",\n",
    "    \"color\": \"sora\"\n",
    "}\n",
    "#make a post request\n",
    "response = requests.post(url=create_graph_endpoint, json=params, headers = headers)"
   ]
  },
  {
   "cell_type": "code",
   "execution_count": 47,
   "id": "159e2a4f",
   "metadata": {},
   "outputs": [
    {
     "data": {
      "text/plain": [
       "'{\"message\":\"Success.\",\"isSuccess\":true}'"
      ]
     },
     "execution_count": 47,
     "metadata": {},
     "output_type": "execute_result"
    }
   ],
   "source": [
    "#Take a look at the response\n",
    "response.text"
   ]
  },
  {
   "cell_type": "code",
   "execution_count": 50,
   "id": "95da7142",
   "metadata": {},
   "outputs": [],
   "source": [
    "#add one pixel to the graph\n",
    "graph_id =  \"mygraph1\"\n",
    "add_pixel_endpoint = f\"{create_graph_endpoint}/{graph_id}\"\n",
    "#headers\n",
    "headers = {\n",
    "    \"X-USER-TOKEN\" : TOKEN\n",
    "}\n",
    "params = {\n",
    "    \"date\": \"20210923\",\n",
    "    \"quantity\": \"4\"\n",
    "}\n",
    "response = requests.post(url= add_pixel_endpoint, json=params, headers=headers)"
   ]
  },
  {
   "cell_type": "code",
   "execution_count": 51,
   "id": "0957912a",
   "metadata": {},
   "outputs": [
    {
     "data": {
      "text/plain": [
       "'{\"message\":\"Success.\",\"isSuccess\":true}'"
      ]
     },
     "execution_count": 51,
     "metadata": {},
     "output_type": "execute_result"
    }
   ],
   "source": [
    "response.text"
   ]
  },
  {
   "cell_type": "markdown",
   "id": "afb4c8d9",
   "metadata": {},
   "source": [
    "<h4>Keep it DRY</h4>"
   ]
  },
  {
   "cell_type": "code",
   "execution_count": 52,
   "id": "cf4c09af",
   "metadata": {},
   "outputs": [],
   "source": [
    "#update a pixel using put\n",
    "update_pixel_endpoint = f\"{add_pixel_endpoint}/20210923\"\n",
    "#headers\n",
    "headers = {\n",
    "    \"X-USER-TOKEN\" : TOKEN\n",
    "}\n",
    "params ={\n",
    "    \"quantity\": \"4.5\"\n",
    "}\n",
    "\n",
    "response = requests.put(url = update_pixel_endpoint, json=params, headers=headers)"
   ]
  },
  {
   "cell_type": "code",
   "execution_count": 53,
   "id": "0a7dc07b",
   "metadata": {
    "scrolled": true
   },
   "outputs": [
    {
     "data": {
      "text/plain": [
       "'{\"message\":\"Success.\",\"isSuccess\":true}'"
      ]
     },
     "execution_count": 53,
     "metadata": {},
     "output_type": "execute_result"
    }
   ],
   "source": [
    "#Take a look at the response\n",
    "response.text"
   ]
  },
  {
   "cell_type": "code",
   "execution_count": 56,
   "id": "1e7e7fd8",
   "metadata": {},
   "outputs": [],
   "source": [
    "#Delete a pixel using delete\n",
    "delete_pixel_endpoint = update_pixel_endpoint\n",
    "headers = {\n",
    "    \"X-USER-TOKEN\" : TOKEN\n",
    "}\n",
    "response = requests.delete(url = delete_pixel_endpoint, headers=headers)"
   ]
  },
  {
   "cell_type": "code",
   "execution_count": 57,
   "id": "c2afcc40",
   "metadata": {
    "scrolled": true
   },
   "outputs": [
    {
     "data": {
      "text/plain": [
       "'{\"message\":\"Success.\",\"isSuccess\":true}'"
      ]
     },
     "execution_count": 57,
     "metadata": {},
     "output_type": "execute_result"
    }
   ],
   "source": [
    "#Take a look at the response\n",
    "response.text"
   ]
  },
  {
   "cell_type": "markdown",
   "id": "00249c4c",
   "metadata": {},
   "source": [
    "--------------------------------------------------------------\n",
    "Texas A&M University <br>\n",
    "Fall 2021 <br>\n",
    "Texas, **==<br>"
   ]
  }
 ],
 "metadata": {
  "kernelspec": {
   "display_name": "Python 3",
   "language": "python",
   "name": "python3"
  },
  "language_info": {
   "codemirror_mode": {
    "name": "ipython",
    "version": 3
   },
   "file_extension": ".py",
   "mimetype": "text/x-python",
   "name": "python",
   "nbconvert_exporter": "python",
   "pygments_lexer": "ipython3",
   "version": "3.8.8"
  }
 },
 "nbformat": 4,
 "nbformat_minor": 5
}
